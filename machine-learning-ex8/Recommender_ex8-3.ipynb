{
 "cells": [
  {
   "cell_type": "code",
   "execution_count": 1,
   "metadata": {},
   "outputs": [],
   "source": [
    "import matplotlib.pyplot as plt\n",
    "import numpy as np\n",
    "import scipy.io"
   ]
  },
  {
   "cell_type": "code",
   "execution_count": 2,
   "metadata": {},
   "outputs": [],
   "source": [
    "mov=scipy.io.loadmat('ex8_movies')"
   ]
  },
  {
   "cell_type": "code",
   "execution_count": 3,
   "metadata": {},
   "outputs": [],
   "source": [
    "mov=scipy.io.loadmat('ex8_movies')\n",
    "Y=mov['Y'] #movies rateed by users between 1 to 5 #1682x943\n",
    "R=mov['R'] #whether movies is rated by a user or not #1682x943\n",
    "nm=Y.shape[0] #no.of movies data given= 1682\n",
    "nu=Y.shape[1] #no.of users data given= 943\n",
    "n=10 # no of features assumed\n",
    "lamda=0 # Regularization Factor"
   ]
  },
  {
   "cell_type": "code",
   "execution_count": 4,
   "metadata": {},
   "outputs": [],
   "source": [
    "#parameters\n",
    "np.random.seed(42)\n",
    "X=np.random.rand(nm,n)  #1682X10\n",
    "Theta= np.random.rand(nu,n) #943X10\n"
   ]
  },
  {
   "cell_type": "code",
   "execution_count": 5,
   "metadata": {},
   "outputs": [
    {
     "data": {
      "text/plain": [
       "144546.78192861367"
      ]
     },
     "execution_count": 5,
     "metadata": {},
     "output_type": "execute_result"
    }
   ],
   "source": [
    "#Calculting Cost\n",
    "H=np.matmul(X,Theta.T)\n",
    "reg_cost= (lamda/2)*((Theta**2).sum()) + (lamda/2)*((X**2).sum())\n",
    "J= 1/2*((H[R==1]-Y[R==1])**2).sum()\n",
    "J"
   ]
  },
  {
   "cell_type": "code",
   "execution_count": 6,
   "metadata": {},
   "outputs": [],
   "source": [
    "#Calculating Gradient\n",
    "H=np.matmul(X,Theta.T)\n",
    "\n",
    "reg_grad_X=lamda*X\n",
    "reg_grad_theta=lamda*Theta\n",
    "\n",
    "grad_x=np.matmul((H-Y),Theta) + reg_grad_X\n",
    "grad_theta= np.matmul((H-Y).T,X) + reg_grad_theta\n"
   ]
  },
  {
   "cell_type": "code",
   "execution_count": 7,
   "metadata": {},
   "outputs": [],
   "source": [
    "mov=scipy.io.loadmat('ex8_movies')\n",
    "Y=mov['Y'] #movies rateed by users between 1 to 5 #1682x943\n",
    "R=mov['R'] #whether movies is rated by a user or not #1682x943\n",
    "nm=Y.shape[0] #no.of movies data given= 1682\n",
    "nu=Y.shape[1] #no.of users data given= 943\n",
    "n=10 # no of features assumed\n",
    "\n",
    "\n",
    "#parameters\n",
    "np.random.seed(42)\n",
    "X=np.random.rand(nm,n)  #1682X10\n",
    "Theta= np.random.rand(nu,n) #943X10"
   ]
  },
  {
   "cell_type": "code",
   "execution_count": 8,
   "metadata": {},
   "outputs": [],
   "source": [
    "#normalize ratings\n",
    "Yrate=Y*R\n",
    "mu=np.mean(Yrate,axis=1)\n",
    "mu=mu[:,np.newaxis]\n",
    "Ynorm=Yrate-mu"
   ]
  },
  {
   "cell_type": "code",
   "execution_count": 11,
   "metadata": {},
   "outputs": [],
   "source": [
    "# implementing Gradient Descent\n",
    "iterations=100\n",
    "alpha=0.001\n",
    "lamda=0\n",
    "\n",
    "Hrate= H*R  #values which have not been rated to assigned 0 value\n",
    "Yrate= Y*R\n",
    "\n",
    "#Cost\n",
    "H=np.matmul(X,Theta.T)\n",
    "reg_cost= (lamda/2)*((Theta**2).sum()) + (lamda/2)*((X**2).sum())\n",
    "J= 1/2*((Hrate-Yrate)**2).sum()\n",
    "\n",
    "for it in range(iterations):\n",
    "    \n",
    "    #Calculating Gradient\n",
    "    reg_grad_X=lamda*X\n",
    "    reg_grad_theta=lamda*Theta\n",
    "\n",
    "    grad_x=np.matmul((Hrate-Yrate),Theta) + reg_grad_X\n",
    "    grad_theta= np.matmul((Hrate-Yrate).T,X) + reg_grad_theta\n",
    "    \n",
    "    #Calculating X and theta\n",
    "    Theta= Theta - alpha*grad_theta\n",
    "    X= X - alpha*grad_x\n",
    "    \n",
    "    H=np.matmul(X,Theta.T)\n",
    "    Hrate= H*R\n",
    "    reg_cost= (lamda/2)*((Theta**2).sum()) + (lamda/2)*((X**2).sum())\n",
    "    J= 1/2*((Hrate-Yrate)**2).sum()\n",
    "    \n"
   ]
  },
  {
   "cell_type": "code",
   "execution_count": null,
   "metadata": {},
   "outputs": [],
   "source": []
  }
 ],
 "metadata": {
  "kernelspec": {
   "display_name": "Python 3",
   "language": "python",
   "name": "python3"
  },
  "language_info": {
   "codemirror_mode": {
    "name": "ipython",
    "version": 3
   },
   "file_extension": ".py",
   "mimetype": "text/x-python",
   "name": "python",
   "nbconvert_exporter": "python",
   "pygments_lexer": "ipython3",
   "version": "3.8.3"
  }
 },
 "nbformat": 4,
 "nbformat_minor": 4
}
