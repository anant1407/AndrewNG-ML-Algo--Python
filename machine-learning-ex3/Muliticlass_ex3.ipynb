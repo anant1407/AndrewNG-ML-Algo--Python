{
 "cells": [
  {
   "cell_type": "code",
   "execution_count": 1,
   "metadata": {},
   "outputs": [],
   "source": [
    "import numpy as np\n",
    "import matplotlib.pyplot as plt"
   ]
  },
  {
   "cell_type": "code",
   "execution_count": 2,
   "metadata": {},
   "outputs": [],
   "source": [
    "#import matlab file\n",
    "import scipy.io\n",
    "mat1=scipy.io.loadmat('ex3data1')"
   ]
  },
  {
   "cell_type": "code",
   "execution_count": 3,
   "metadata": {},
   "outputs": [],
   "source": [
    "#import matlab file\n",
    "import scipy.io\n",
    "mat2=scipy.io.loadmat('ex3weights.mat')"
   ]
  },
  {
   "cell_type": "code",
   "execution_count": 4,
   "metadata": {},
   "outputs": [],
   "source": [
    "#data Assignment\n",
    "X=mat1['X']\n",
    "y=mat1['y']\n",
    "m=X.shape[0]\n",
    "n=X.shape[1]+1\n",
    "K=10 #no. of classification "
   ]
  },
  {
   "cell_type": "code",
   "execution_count": 5,
   "metadata": {},
   "outputs": [],
   "source": [
    "#Theta Assignment\n",
    "theta1=mat2['Theta1']\n",
    "theta2=mat2['Theta2']"
   ]
  },
  {
   "cell_type": "code",
   "execution_count": 6,
   "metadata": {},
   "outputs": [],
   "source": [
    "#intialisation\n",
    "x0=np.ones((m,1))\n",
    "X=np.concatenate((x0,X), axis=1)\n",
    "theta=np.zeros((n,1))\n",
    "all_theta=np.zeros((n,K))"
   ]
  },
  {
   "cell_type": "code",
   "execution_count": 7,
   "metadata": {},
   "outputs": [],
   "source": [
    "def sigmoid(z):\n",
    "    sig=1/(1+np.exp(-z))\n",
    "    return sig"
   ]
  },
  {
   "cell_type": "code",
   "execution_count": 8,
   "metadata": {},
   "outputs": [],
   "source": [
    "#Create classification mat\n",
    "y_mat= np.zeros((m,K))\n",
    "y_r= y.flatten()\n",
    "for i in range(K):\n",
    "    y_mat[y_r==(i+1),i]=1"
   ]
  },
  {
   "cell_type": "code",
   "execution_count": 9,
   "metadata": {},
   "outputs": [],
   "source": [
    "#Compute one vs all log Reg classification\n",
    "iterations=10000\n",
    "alpha=0.01\n",
    "lamda=1\n",
    "cost=0\n",
    "all_theta=np.zeros((n,K))\n",
    "\n",
    "z=np.matmul(X,all_theta)\n",
    "h_mat=sigmoid(z)\n",
    "reg_cost= (lamda/(2*m))*((all_theta[1:,:]**2).sum())\n",
    "cost=(-1/m)*((y_mat*np.log(h_mat)+(1-y_mat)*np.log(1-h_mat)).sum()) + reg_cost\n",
    "\n",
    "for i in range(iterations):\n",
    "    \n",
    "    reg_theta= (lamda/m)*all_theta\n",
    "    all_grad= np.matmul(X.T,(h_mat-y_mat))+ reg_theta\n",
    "    all_grad[0,:]= all_grad[0,:]- reg_theta[0,:]\n",
    "    all_theta= all_theta- (alpha/m)*all_grad\n",
    "    \n",
    "    z=np.matmul(X,all_theta)\n",
    "    h_mat=sigmoid(z)\n",
    "\n",
    "    cost=(-1/m)*((y_mat*np.log(h_mat)+(1-y_mat)*np.log(1-h_mat)).sum()) + reg_cost    "
   ]
  },
  {
   "cell_type": "code",
   "execution_count": 10,
   "metadata": {},
   "outputs": [
    {
     "name": "stdout",
     "output_type": "stream",
     "text": [
      "Logistic Regression accuracy:  89.92\n"
     ]
    }
   ],
   "source": [
    "#prediction\n",
    "for k in range(K):\n",
    "    y_t= np.argmax(h_mat, axis=1)\n",
    "    y_pred=y_t+1\n",
    "y_pred= y_pred.reshape(m,1)   \n",
    "acc= y==y_pred\n",
    "acc_log= acc.sum()*100/m\n",
    "print('Logistic Regression accuracy: ',acc_log)"
   ]
  },
  {
   "cell_type": "code",
   "execution_count": 11,
   "metadata": {},
   "outputs": [],
   "source": [
    "#Neural Network Feed Forward Propagation\n",
    "\n",
    "z2=np.matmul(X,theta1.T)\n",
    "a2=sigmoid(z2)\n",
    "a02=np.ones((m,1))\n",
    "a2=np.concatenate((a02,a2),axis=1)\n",
    "z3=np.matmul(a2,theta2.T)\n",
    "a3=sigmoid(z3)\n",
    "h_nn=a3"
   ]
  },
  {
   "cell_type": "code",
   "execution_count": 12,
   "metadata": {},
   "outputs": [
    {
     "name": "stdout",
     "output_type": "stream",
     "text": [
      "Neural Network accuracy:  97.52\n"
     ]
    }
   ],
   "source": [
    "#prediction\n",
    "for k in range(K):\n",
    "    y_t_nn= np.argmax(h_nn, axis=1)\n",
    "    y_nn=y_t_nn+1\n",
    "y_nn= y_nn.reshape(m,1)   \n",
    "acc= y==y_nn\n",
    "acc_nn= acc.sum()*100/m\n",
    "print('Neural Network accuracy: ',acc_nn)"
   ]
  },
  {
   "cell_type": "markdown",
   "metadata": {},
   "source": [
    "Accuracy by Neural network is better than log reg"
   ]
  },
  {
   "cell_type": "code",
   "execution_count": null,
   "metadata": {},
   "outputs": [],
   "source": []
  }
 ],
 "metadata": {
  "kernelspec": {
   "display_name": "Python 3",
   "language": "python",
   "name": "python3"
  },
  "language_info": {
   "codemirror_mode": {
    "name": "ipython",
    "version": 3
   },
   "file_extension": ".py",
   "mimetype": "text/x-python",
   "name": "python",
   "nbconvert_exporter": "python",
   "pygments_lexer": "ipython3",
   "version": "3.8.3"
  }
 },
 "nbformat": 4,
 "nbformat_minor": 4
}
