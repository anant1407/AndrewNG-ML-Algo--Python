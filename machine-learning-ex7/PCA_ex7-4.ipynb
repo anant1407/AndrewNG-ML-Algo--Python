{
 "cells": [
  {
   "cell_type": "code",
   "execution_count": 1,
   "metadata": {},
   "outputs": [],
   "source": [
    "import numpy as np\n",
    "import matplotlib.pyplot as plt\n",
    "import scipy.io"
   ]
  },
  {
   "cell_type": "code",
   "execution_count": 2,
   "metadata": {},
   "outputs": [],
   "source": [
    "mat= scipy.io.loadmat('ex7faces.mat')"
   ]
  },
  {
   "cell_type": "code",
   "execution_count": 3,
   "metadata": {},
   "outputs": [],
   "source": [
    "X=mat['X']\n",
    "m=X.shape[0]  #5000\n",
    "n=X.shape[1]   #1024\n",
    "K= 100  "
   ]
  },
  {
   "cell_type": "code",
   "execution_count": 4,
   "metadata": {},
   "outputs": [],
   "source": [
    "#feature normalisation\n",
    "mu= np.mean(X, axis=0)\n",
    "sigma=np.std(X,axis=0)\n",
    "X_norm= (X-mu)/sigma"
   ]
  },
  {
   "cell_type": "code",
   "execution_count": 5,
   "metadata": {},
   "outputs": [],
   "source": [
    "from scipy import linalg\n",
    "#calculating covariance matrix\n",
    "\n",
    "cov= (1/m)*(np.matmul(X_norm.T,X_norm))\n",
    "U,s,V= linalg.svd(cov) # U=Eigen matrix, s=Eigen Val, V=??"
   ]
  },
  {
   "cell_type": "code",
   "execution_count": 6,
   "metadata": {},
   "outputs": [],
   "source": [
    "#Dimensionality reductiom\n",
    "eigval= np.argsort(s)[::-1] #indices of eigen values in descending order\n",
    "Ureduce= U[:,eigval[:K]] # selecting first K vectors\n",
    "Z= np.matmul(X_norm,Ureduce)"
   ]
  },
  {
   "cell_type": "code",
   "execution_count": 7,
   "metadata": {},
   "outputs": [],
   "source": [
    "#Reconstructing from reduced mat\n",
    "Xapprox=np.matmul(Z,Ureduce.T)\n"
   ]
  },
  {
   "cell_type": "code",
   "execution_count": 8,
   "metadata": {},
   "outputs": [
    {
     "data": {
      "text/plain": [
       "(5000, 1024)"
      ]
     },
     "execution_count": 8,
     "metadata": {},
     "output_type": "execute_result"
    }
   ],
   "source": [
    "Xapprox.shape"
   ]
  },
  {
   "cell_type": "code",
   "execution_count": 9,
   "metadata": {},
   "outputs": [
    {
     "data": {
      "image/png": "[encoded data removed]",
      "text/plain": [
       "<Figure size 432x288 with 1 Axes>"
      ]
     },
     "metadata": {
      "needs_background": "light"
     },
     "output_type": "display_data"
    }
   ],
   "source": [
    "plt.plot(Xapprox[:,0],Xapprox[:,1])\n",
    "plt.scatter(X_norm[:,0],X_norm[:,1], c='red', marker='+')\n",
    "plt.show()"
   ]
  }
 ],
 "metadata": {
  "kernelspec": {
   "display_name": "Python 3",
   "language": "python",
   "name": "python3"
  },
  "language_info": {
   "codemirror_mode": {
    "name": "ipython",
    "version": 3
   },
   "file_extension": ".py",
   "mimetype": "text/x-python",
   "name": "python",
   "nbconvert_exporter": "python",
   "pygments_lexer": "ipython3",
   "version": "3.8.3"
  }
 },
 "nbformat": 4,
 "nbformat_minor": 4
}
