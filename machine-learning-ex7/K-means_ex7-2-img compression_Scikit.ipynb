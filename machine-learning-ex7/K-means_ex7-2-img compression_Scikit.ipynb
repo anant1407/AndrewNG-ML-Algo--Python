{
 "cells": [
  {
   "cell_type": "code",
   "execution_count": 2,
   "metadata": {},
   "outputs": [],
   "source": [
    "import numpy as np\n",
    "import matplotlib.pyplot as plt\n",
    "import scipy.io"
   ]
  },
  {
   "cell_type": "code",
   "execution_count": 3,
   "metadata": {},
   "outputs": [],
   "source": [
    "mat=scipy.io.loadmat('bird_small.mat')"
   ]
  },
  {
   "cell_type": "code",
   "execution_count": 4,
   "metadata": {},
   "outputs": [],
   "source": [
    "X=mat['A']\n",
    "K=16 #no.of clusters\n",
    "size=X.shape\n",
    "X=X.reshape(size[0]*size[1],size[2])\n",
    "m=X.shape[0]\n",
    "n=X.shape[1]\n",
    "J=0"
   ]
  },
  {
   "cell_type": "code",
   "execution_count": 7,
   "metadata": {},
   "outputs": [
    {
     "data": {
      "text/plain": [
       "array([[249.1535649 , 241.28702011, 208.54478976],\n",
       "       [ 71.87881981,  66.66807165,  67.29926238],\n",
       "       [193.01552511, 154.40182648,  86.56073059],\n",
       "       [ 21.63184552,  23.43589744,  20.83159228],\n",
       "       [179.47584541, 161.0531401 , 143.36835749],\n",
       "       [118.39405204, 100.13506815,  90.95043371],\n",
       "       [163.96919692, 119.12761276,  53.14741474],\n",
       "       [144.97609562, 183.62948207, 221.33067729],\n",
       "       [245.7755511 , 219.1753507 , 161.11322645],\n",
       "       [221.7797619 , 183.02321429, 116.24642857],\n",
       "       [ 98.65055762, 116.59479554, 165.07434944],\n",
       "       [114.26666667,  81.61666667,  47.79861111],\n",
       "       [ 42.41257485,  42.49401198,  40.34491018],\n",
       "       [150.45011338, 128.58503401, 115.12811791],\n",
       "       [234.06794055, 145.57961783,  64.32271762],\n",
       "       [211.16445183, 190.52657807, 188.15448505]])"
      ]
     },
     "execution_count": 7,
     "metadata": {},
     "output_type": "execute_result"
    }
   ],
   "source": [
    "from sklearn.cluster import KMeans\n",
    "K=16\n",
    "kmeans=KMeans(n_clusters=K)\n",
    "y_pred=kmeans.fit_predict(X)\n",
    "kmeans.labels_  #y predict\n",
    "kmeans.cluster_centers_  #Centroids of data"
   ]
  },
  {
   "cell_type": "code",
   "execution_count": null,
   "metadata": {},
   "outputs": [],
   "source": []
  }
 ],
 "metadata": {
  "kernelspec": {
   "display_name": "Python 3",
   "language": "python",
   "name": "python3"
  },
  "language_info": {
   "codemirror_mode": {
    "name": "ipython",
    "version": 3
   },
   "file_extension": ".py",
   "mimetype": "text/x-python",
   "name": "python",
   "nbconvert_exporter": "python",
   "pygments_lexer": "ipython3",
   "version": "3.8.3"
  }
 },
 "nbformat": 4,
 "nbformat_minor": 4
}
