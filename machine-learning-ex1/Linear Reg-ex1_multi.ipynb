{
 "cells": [
  {
   "cell_type": "code",
   "execution_count": 1,
   "metadata": {},
   "outputs": [],
   "source": [
    "#Load Python Libraries\n",
    "import numpy as np\n",
    "import pandas as pd\n",
    "import matplotlib.pyplot as plt"
   ]
  },
  {
   "cell_type": "code",
   "execution_count": 2,
   "metadata": {},
   "outputs": [],
   "source": [
    "#Load Data\n",
    "file='ex1data2.txt'\n",
    "data=np.loadtxt(file,delimiter=',')\n",
    "X=data[:,:-1]\n",
    "y=data[:,-1] \n",
    "y=y[:,np.newaxis] #1D to 2D array\n",
    "m=X.shape[0] #no. of training examples\n",
    "n=data.shape[1] #no. of feature"
   ]
  },
  {
   "cell_type": "code",
   "execution_count": 3,
   "metadata": {},
   "outputs": [],
   "source": [
    "#Feature normalization\n",
    "mu= np.mean(X, axis=0)\n",
    "sigma=X.max(axis=0)-X.min(axis=0)\n",
    "x_norm= (X-mu)/sigma\n",
    "X = x_norm"
   ]
  },
  {
   "cell_type": "code",
   "execution_count": 4,
   "metadata": {},
   "outputs": [],
   "source": [
    "#add ones to X\n",
    "x0=np.ones((m,1))\n",
    "X=np.concatenate((x0,X),axis=1)\n",
    "theta=np.zeros((n,1))"
   ]
  },
  {
   "cell_type": "code",
   "execution_count": 5,
   "metadata": {},
   "outputs": [
    {
     "name": "stdout",
     "output_type": "stream",
     "text": [
      "Cost: \n",
      " [2.04328007e+09]\n",
      "Theta: \n",
      " [[340412.65957447]\n",
      " [504747.34962916]\n",
      " [-34912.80713998]]\n"
     ]
    }
   ],
   "source": [
    "#Computation\n",
    "alpha=0.01\n",
    "iterations=50000\n",
    "\n",
    "h=np.matmul(X,theta)\n",
    "cost= sum((h-y)**2)/(2*m)\n",
    "\n",
    "for i in range(iterations):\n",
    "    grad= sum((h-y)*X)\n",
    "    grad=grad.reshape(n,1)\n",
    "    theta= theta-((alpha/m)*grad)\n",
    "    h=np.matmul(X,theta)\n",
    "    cost= sum((h-y)**2)/(2*m)\n",
    "    \n",
    "print('Cost: \\n',cost)\n",
    "print('Theta: \\n',theta)\n",
    "    \n"
   ]
  },
  {
   "cell_type": "code",
   "execution_count": 6,
   "metadata": {},
   "outputs": [
    {
     "name": "stdout",
     "output_type": "stream",
     "text": [
      "Cost_normal: \n",
      " [2.04328005e+09]\n",
      "Theta_normal: \n",
      " [[340412.65957447]\n",
      " [504777.90398791]\n",
      " [-34952.07644931]]\n"
     ]
    }
   ],
   "source": [
    "# Calculating theta from normal equation\n",
    "X_temp=np.matmul(X.T,X)\n",
    "theta_normal=np.matmul(np.linalg.inv(X_temp),np.matmul(X.T,y));\n",
    "h_normal = np.matmul(X,theta_normal)\n",
    "cost_normal= sum((h_normal-y)**2)/(2*m)\n",
    "\n",
    "print('Cost_normal: \\n',cost_normal)\n",
    "print('Theta_normal: \\n',theta_normal)"
   ]
  },
  {
   "cell_type": "code",
   "execution_count": 7,
   "metadata": {},
   "outputs": [
    {
     "name": "stdout",
     "output_type": "stream",
     "text": [
      "Cost_Scikit: \n",
      " [2.04328005e+09]\n",
      "Theta_Scikit: \n",
      " [[340412.65957447]\n",
      " [504777.90398791]\n",
      " [-34952.07644931]]\n"
     ]
    }
   ],
   "source": [
    "#Calculating using Scikit Learn\n",
    "from sklearn.linear_model import LinearRegression\n",
    "model=LinearRegression()\n",
    "#Train Model\n",
    "model.fit(X,y)\n",
    "\n",
    "#Hypothessis\n",
    "theta0=model.intercept_\n",
    "theta_rem= model.coef_[0,1:]\n",
    "\n",
    "theta_scikit=np.concatenate((theta0,theta_rem))\n",
    "theta_scikit=theta_scikit[:,np.newaxis]\n",
    "h_scikit=np.matmul(X,theta_scikit)\n",
    "cost_scikit= sum((h_scikit-y)**2)/(2*m)\n",
    "\n",
    "print('Cost_Scikit: \\n',cost_scikit)\n",
    "print('Theta_Scikit: \\n',theta_scikit)\n"
   ]
  }
 ],
 "metadata": {
  "kernelspec": {
   "display_name": "Python 3",
   "language": "python",
   "name": "python3"
  },
  "language_info": {
   "codemirror_mode": {
    "name": "ipython",
    "version": 3
   },
   "file_extension": ".py",
   "mimetype": "text/x-python",
   "name": "python",
   "nbconvert_exporter": "python",
   "pygments_lexer": "ipython3",
   "version": "3.8.3"
  }
 },
 "nbformat": 4,
 "nbformat_minor": 4
}
