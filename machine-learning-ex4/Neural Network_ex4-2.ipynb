{
 "cells": [
  {
   "cell_type": "code",
   "execution_count": 1,
   "metadata": {},
   "outputs": [],
   "source": [
    "import numpy as np\n",
    "import matplotlib.pyplot as plt\n",
    "import scipy.io"
   ]
  },
  {
   "cell_type": "code",
   "execution_count": 12,
   "metadata": {},
   "outputs": [],
   "source": [
    "mat1=scipy.io.loadmat('ex4data1')"
   ]
  },
  {
   "cell_type": "code",
   "execution_count": 3,
   "metadata": {},
   "outputs": [],
   "source": [
    "K=10\n",
    "X=mat1['X']\n",
    "y=mat1['y']\n",
    "m= X.shape[0]  #5000\n",
    "n= X.shape[1]+1 #401\n",
    "hid= 25         #hidden layer size= 25"
   ]
  },
  {
   "cell_type": "code",
   "execution_count": 4,
   "metadata": {},
   "outputs": [],
   "source": [
    "#intitalise Weights\n",
    "np.random.seed(42)\n",
    "theta1=np.random.rand(hid,n)    #25x401\n",
    "theta2=np.random.rand(K,hid+1)  #10x26"
   ]
  },
  {
   "cell_type": "code",
   "execution_count": 5,
   "metadata": {},
   "outputs": [],
   "source": [
    "#initialisation\n",
    "\n",
    "x0=np.ones((m,1))\n",
    "X=np.concatenate((x0,X),axis=1)\n"
   ]
  },
  {
   "cell_type": "code",
   "execution_count": 6,
   "metadata": {},
   "outputs": [],
   "source": [
    "def sigmoid(z):\n",
    "    sig=1/(1+np.exp(-z))\n",
    "    return sig\n",
    "\n",
    "def siggrad(z):\n",
    "    sig_grad=sigmoid(z)*(1-sigmoid(z))\n",
    "    return sig_grad\n"
   ]
  },
  {
   "cell_type": "code",
   "execution_count": 7,
   "metadata": {},
   "outputs": [],
   "source": [
    "#classification matrix\n",
    "y_mat=np.zeros((m,K))\n",
    "y_t=y.flatten()\n",
    "for i in range(K):\n",
    "    y_mat[y_t==(i+1),i]=1\n"
   ]
  },
  {
   "cell_type": "code",
   "execution_count": 8,
   "metadata": {},
   "outputs": [],
   "source": [
    "#intitalise Weights\n",
    "np.random.seed(42)\n",
    "theta1=np.random.rand(hid,n)    #25x401\n",
    "theta2=np.random.rand(K,hid+1)  #10x26"
   ]
  },
  {
   "cell_type": "code",
   "execution_count": 9,
   "metadata": {
    "scrolled": true
   },
   "outputs": [],
   "source": [
    "#intitalise Weights\n",
    "np.random.seed(42)\n",
    "theta1=np.random.rand(hid,n)    #25x401\n",
    "theta2=np.random.rand(K,hid+1)  #10x26\n",
    "\n",
    "\n",
    "#Implementing Complete NN model\n",
    "\n",
    "iterations= 100\n",
    "alpha = 0.3\n",
    "lamda=0\n",
    "h_mat= np.empty((m,K))\n",
    "\n",
    "for it in range(iterations):\n",
    "    \n",
    "    Delta2=0\n",
    "    Delta3=0\n",
    "\n",
    "    for i in range(m):\n",
    "        #feeedforward propagation\n",
    "        a1=X[i,:]                  #1x401\n",
    "        a1=a1.reshape(1,n)\n",
    "        z2=np.matmul(a1,theta1.T)  #1x25\n",
    "        a2=sigmoid(z2)\n",
    "        ones=np.ones((a2.shape[0],1))\n",
    "        a2=np.concatenate((ones,a2),axis=1)\n",
    "        z3=np.matmul(a2,theta2.T)   #1x10\n",
    "        a3=sigmoid(z3)\n",
    "        h_mat[i,:]=a3\n",
    "        delta3= h_mat[i,:]-y_mat[i,:] #1x10\n",
    "        delta3=delta3.reshape((1,K))\n",
    "        delta2= np.matmul(delta3,theta2) #1x26\n",
    "        delta2= delta2[0,1:]*siggrad(z2) # 1st element of delta2 corressponds to bias unit on 2nd layer so to be droped\n",
    "                                        #  1x25             \n",
    "        Delta3= Delta3 + np.matmul(delta3.T,a2)       #10x26 #Adding up all the error terms\n",
    "        Delta2= Delta2 + np.matmul(delta2.T,a1)      #25x401\n",
    "    \n",
    "\n",
    "    #Calculating Gradient\n",
    "    theta1_grad= Delta2/m + (lamda/m)*theta1\n",
    "    theta2_grad= Delta3/m + (lamda/m)*theta2\n",
    "    \n",
    "    #Calculating theta\n",
    "    theta1= theta1-alpha*theta1_grad\n",
    "    theta2= theta2-alpha*theta2_grad\n",
    "    \n",
    "    #Calculating Cosr\n",
    "    reg_cost= (lamda/(2*m))*((theta1[:,1:]**2).sum()+(theta2[:,1:]**2).sum())\n",
    "    cost=(-1/m)*((y_mat*np.log(h_mat)+(1-y_mat)*np.log(1-h_mat))).sum() + reg_cost"
   ]
  },
  {
   "cell_type": "code",
   "execution_count": 10,
   "metadata": {},
   "outputs": [
    {
     "data": {
      "text/plain": [
       "3.2508316662273256"
      ]
     },
     "execution_count": 10,
     "metadata": {},
     "output_type": "execute_result"
    }
   ],
   "source": [
    "cost"
   ]
  },
  {
   "cell_type": "code",
   "execution_count": 11,
   "metadata": {},
   "outputs": [],
   "source": [
    "#prediction\n",
    "pred=np.empty((m,1))\n",
    "for i in range(m):\n",
    "    pred[i]=np.argmax(h_mat[i,:])+1\n",
    "    \n",
    "acc= y==pred\n",
    "accuracy= acc.sum()*100/m"
   ]
  },
  {
   "cell_type": "code",
   "execution_count": null,
   "metadata": {},
   "outputs": [],
   "source": []
  }
 ],
 "metadata": {
  "kernelspec": {
   "display_name": "Python 3",
   "language": "python",
   "name": "python3"
  },
  "language_info": {
   "codemirror_mode": {
    "name": "ipython",
    "version": 3
   },
   "file_extension": ".py",
   "mimetype": "text/x-python",
   "name": "python",
   "nbconvert_exporter": "python",
   "pygments_lexer": "ipython3",
   "version": "3.8.3"
  }
 },
 "nbformat": 4,
 "nbformat_minor": 4
}
