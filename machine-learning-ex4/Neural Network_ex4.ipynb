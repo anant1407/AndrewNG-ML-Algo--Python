{
 "cells": [
  {
   "cell_type": "code",
   "execution_count": 1,
   "metadata": {},
   "outputs": [],
   "source": [
    "import numpy as np\n",
    "import matplotlib.pyplot as plt\n",
    "import scipy.io"
   ]
  },
  {
   "cell_type": "code",
   "execution_count": 2,
   "metadata": {},
   "outputs": [],
   "source": [
    "mat1=scipy.io.loadmat('ex4data1')\n",
    "mat2=scipy.io.loadmat('ex4weights')"
   ]
  },
  {
   "cell_type": "code",
   "execution_count": 3,
   "metadata": {},
   "outputs": [],
   "source": [
    "K=10\n",
    "X=mat1['X']\n",
    "y=mat1['y']\n",
    "m= X.shape[0]\n",
    "n= X.shape[1]+1"
   ]
  },
  {
   "cell_type": "code",
   "execution_count": 4,
   "metadata": {},
   "outputs": [],
   "source": [
    "#Weights\n",
    "theta1=mat2['Theta1']\n",
    "theta2=mat2['Theta2']"
   ]
  },
  {
   "cell_type": "code",
   "execution_count": 5,
   "metadata": {},
   "outputs": [],
   "source": [
    "#initialisation\n",
    "\n",
    "x0=np.ones((m,1))\n",
    "X=np.concatenate((x0,X),axis=1)\n"
   ]
  },
  {
   "cell_type": "code",
   "execution_count": 6,
   "metadata": {},
   "outputs": [],
   "source": [
    "def sigmoid(z):\n",
    "    sig=1/(1+np.exp(-z))\n",
    "    return sig"
   ]
  },
  {
   "cell_type": "code",
   "execution_count": 7,
   "metadata": {},
   "outputs": [],
   "source": [
    "#classification matrix\n",
    "y_mat=np.zeros((m,K))\n",
    "y_t=y.flatten()\n",
    "for i in range(K):\n",
    "    y_mat[y_t==(i+1),i]=1\n"
   ]
  },
  {
   "cell_type": "code",
   "execution_count": 8,
   "metadata": {},
   "outputs": [
    {
     "data": {
      "text/plain": [
       "0.38376985909092365"
      ]
     },
     "execution_count": 8,
     "metadata": {},
     "output_type": "execute_result"
    }
   ],
   "source": [
    "#FeedForward\n",
    "lamda=1\n",
    "a1=X\n",
    "z2= np.matmul(a1,theta1.T)\n",
    "a2=sigmoid(z2)\n",
    "ones=np.ones((a2.shape[0],1))\n",
    "a2=np.concatenate((ones,a2), axis=1)\n",
    "z3=np.matmul(a2,theta2.T)\n",
    "a3=sigmoid(z3)\n",
    "h_mat=a3\n",
    "\n",
    "reg_cost= (lamda/(2*m))*((theta1[:,1:]**2).sum()+(theta2[:,1:]**2).sum())\n",
    "\n",
    "cost=(-1/m)*((y_mat*np.log(h_mat)+(1-y_mat)*np.log(1-h_mat))).sum() + reg_cost\n",
    "cost"
   ]
  },
  {
   "cell_type": "code",
   "execution_count": 10,
   "metadata": {},
   "outputs": [
    {
     "data": {
      "text/plain": [
       "97.52"
      ]
     },
     "execution_count": 10,
     "metadata": {},
     "output_type": "execute_result"
    }
   ],
   "source": [
    "#prediction\n",
    "pred=np.empty((m,1))\n",
    "for i in range(m):\n",
    "    pred[i]=np.argmax(h_mat[i,:])+1\n",
    "    \n",
    "acc= y==pred\n",
    "accuracy= acc.sum()*100/m\n",
    "accuracy"
   ]
  },
  {
   "cell_type": "code",
   "execution_count": null,
   "metadata": {},
   "outputs": [],
   "source": []
  }
 ],
 "metadata": {
  "kernelspec": {
   "display_name": "Python 3",
   "language": "python",
   "name": "python3"
  },
  "language_info": {
   "codemirror_mode": {
    "name": "ipython",
    "version": 3
   },
   "file_extension": ".py",
   "mimetype": "text/x-python",
   "name": "python",
   "nbconvert_exporter": "python",
   "pygments_lexer": "ipython3",
   "version": "3.8.3"
  }
 },
 "nbformat": 4,
 "nbformat_minor": 4
}
