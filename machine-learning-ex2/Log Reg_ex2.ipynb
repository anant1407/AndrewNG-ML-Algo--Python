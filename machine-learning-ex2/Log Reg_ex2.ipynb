{
 "cells": [
  {
   "cell_type": "code",
   "execution_count": 1,
   "metadata": {},
   "outputs": [],
   "source": [
    "# import libraries\n",
    "import numpy as np\n",
    "import matplotlib.pyplot as plt\n",
    "from matplotlib import style"
   ]
  },
  {
   "cell_type": "code",
   "execution_count": 2,
   "metadata": {},
   "outputs": [],
   "source": [
    "#Import Data\n",
    "data=np.loadtxt('ex2data1.txt',delimiter=',')\n",
    "X=data[:,:-1]\n",
    "y=data[:,-1]\n",
    "y=y[:,np.newaxis]\n",
    "m=data.shape[0]\n",
    "n=data.shape[1]"
   ]
  },
  {
   "cell_type": "code",
   "execution_count": 3,
   "metadata": {},
   "outputs": [
    {
     "data": {
      "text/plain": [
       "<matplotlib.legend.Legend at 0x357ed18>"
      ]
     },
     "execution_count": 3,
     "metadata": {},
     "output_type": "execute_result"
    },
    {
     "data": {
      "image/png": "[encoded data removed]",
      "text/plain": [
       "<Figure size 432x288 with 1 Axes>"
      ]
     },
     "metadata": {},
     "output_type": "display_data"
    }
   ],
   "source": [
    "#Plot data\n",
    "style.use('ggplot')\n",
    "pos= y==1\n",
    "neg= y==0\n",
    "pos=pos.reshape(m)\n",
    "neg=neg.reshape(m)\n",
    "plt.scatter(X[pos,0],X[pos,1],marker='+',c='black',label='Admitted')\n",
    "plt.scatter(X[neg,0],X[neg,1],marker='o',c='yellow',label='Not Admitted')\n",
    "plt.xlabel('Exam1 Score')\n",
    "plt.ylabel('Exam2 Score')\n",
    "plt.legend(loc='best')\n",
    "\n"
   ]
  },
  {
   "cell_type": "code",
   "execution_count": 4,
   "metadata": {},
   "outputs": [],
   "source": [
    "#Sigmoid Function\n",
    "def sigmoid(z):\n",
    "    sig= 1/(1+np.exp(-z))\n",
    "    return sig"
   ]
  },
  {
   "cell_type": "code",
   "execution_count": 5,
   "metadata": {},
   "outputs": [],
   "source": [
    "#Intialization\n",
    "x0=np.ones((m,1))\n",
    "X=np.concatenate((x0,X), axis=1)\n",
    "theta=np.zeros((n,1))\n"
   ]
  },
  {
   "cell_type": "code",
   "execution_count": 6,
   "metadata": {},
   "outputs": [],
   "source": [
    "#Compute Cost and grad\n",
    "iterations=100000\n",
    "alpha= 0.001\n",
    "z=np.matmul(X,theta)\n",
    "h=sigmoid(z)\n",
    "cost= sum((-y*np.log(h)-(1-y)*np.log(1-h)))/m\n",
    "\n",
    "for i in range(iterations):\n",
    "    grad= sum((h-y)*X)\n",
    "    grad=grad.reshape(n,1)\n",
    "    theta= theta-(alpha/m)*grad\n",
    "    z=np.matmul(X,theta)\n",
    "    h=sigmoid(z)\n",
    "    cost=(-1/m)*sum(y*np.log(h)+(1-y)*np.log(1-h))\n"
   ]
  },
  {
   "cell_type": "code",
   "execution_count": 7,
   "metadata": {},
   "outputs": [
    {
     "name": "stdout",
     "output_type": "stream",
     "text": [
      "training accuracy=  91.0\n"
     ]
    }
   ],
   "source": [
    "#Training accuracy\n",
    "p=np.zeros((m,1))\n",
    "h_temp=h.reshape(m)\n",
    "p[h_temp>=0.5]=1\n",
    "acc_hyp= p==y\n",
    "acc_trained= (acc_hyp.sum()/m)*100\n",
    "print('training accuracy= ',acc_trained)\n"
   ]
  },
  {
   "cell_type": "code",
   "execution_count": 8,
   "metadata": {},
   "outputs": [
    {
     "name": "stderr",
     "output_type": "stream",
     "text": [
      "c:\\program files (x86)\\python38-32\\lib\\site-packages\\sklearn\\utils\\validation.py:73: DataConversionWarning: A column-vector y was passed when a 1d array was expected. Please change the shape of y to (n_samples, ), for example using ravel().\n",
      "  return f(**kwargs)\n"
     ]
    }
   ],
   "source": [
    "#import classification model\n",
    "from sklearn.naive_bayes import GaussianNB\n",
    "model=GaussianNB()\n",
    "model.fit(X,y)\n",
    "h_nb= model.predict(X)"
   ]
  },
  {
   "cell_type": "code",
   "execution_count": 9,
   "metadata": {},
   "outputs": [
    {
     "name": "stdout",
     "output_type": "stream",
     "text": [
      "training accuracy using NaiveBayes=  93.0\n"
     ]
    }
   ],
   "source": [
    "#accuracy of trainig set\n",
    "from sklearn.metrics import accuracy_score\n",
    "acc_nb = accuracy_score(y,h_nb)*100\n",
    "print('training accuracy using NaiveBayes= ',acc_nb)"
   ]
  }
 ],
 "metadata": {
  "kernelspec": {
   "display_name": "Python 3",
   "language": "python",
   "name": "python3"
  },
  "language_info": {
   "codemirror_mode": {
    "name": "ipython",
    "version": 3
   },
   "file_extension": ".py",
   "mimetype": "text/x-python",
   "name": "python",
   "nbconvert_exporter": "python",
   "pygments_lexer": "ipython3",
   "version": "3.8.3"
  }
 },
 "nbformat": 4,
 "nbformat_minor": 4
}
