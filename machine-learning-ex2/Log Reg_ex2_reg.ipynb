{
 "cells": [
  {
   "cell_type": "code",
   "execution_count": 1,
   "metadata": {},
   "outputs": [],
   "source": [
    "# import libraries\n",
    "import numpy as np\n",
    "import matplotlib.pyplot as plt\n",
    "from matplotlib import style"
   ]
  },
  {
   "cell_type": "code",
   "execution_count": 2,
   "metadata": {},
   "outputs": [],
   "source": [
    "#Import Data\n",
    "data=np.loadtxt('ex2data2.txt',delimiter=',')\n",
    "X=data[:,:-1]\n",
    "y=data[:,-1]\n",
    "y=y[:,np.newaxis]\n",
    "m=data.shape[0]\n",
    "n=data.shape[1]"
   ]
  },
  {
   "cell_type": "code",
   "execution_count": 3,
   "metadata": {},
   "outputs": [
    {
     "data": {
      "text/plain": [
       "<matplotlib.legend.Legend at 0x3a6f340>"
      ]
     },
     "execution_count": 3,
     "metadata": {},
     "output_type": "execute_result"
    },
    {
     "data": {
      "image/png": "[encoded data removed]",
      "text/plain": [
       "<Figure size 432x288 with 1 Axes>"
      ]
     },
     "metadata": {},
     "output_type": "display_data"
    }
   ],
   "source": [
    "#Plot data\n",
    "style.use('ggplot')\n",
    "pos= y==1\n",
    "neg= y==0\n",
    "pos=pos.reshape(m)\n",
    "neg=neg.reshape(m)\n",
    "plt.scatter(X[pos,0],X[pos,1],marker='+',c='black',label='y=1')\n",
    "plt.scatter(X[neg,0],X[neg,1],marker='o',c='yellow',label='y=0')\n",
    "plt.xlabel('Microchip Test 1')\n",
    "plt.ylabel('Microchip Test 2')\n",
    "plt.legend(loc='best')\n",
    "\n"
   ]
  },
  {
   "cell_type": "code",
   "execution_count": 4,
   "metadata": {},
   "outputs": [],
   "source": [
    "#Sigmoid Function\n",
    "def sigmoid(z):\n",
    "    sig= 1/(1+np.exp(-z))\n",
    "    return sig"
   ]
  },
  {
   "cell_type": "code",
   "execution_count": 5,
   "metadata": {},
   "outputs": [],
   "source": [
    "#Intialization\n",
    "x0=np.ones((m,1))\n",
    "X=np.concatenate((x0,X), axis=1)\n",
    "theta=np.zeros((n,1))\n"
   ]
  },
  {
   "cell_type": "code",
   "execution_count": 6,
   "metadata": {},
   "outputs": [],
   "source": [
    "import numpy as np\n",
    "import matplotlib.pyplot as plt\n",
    "from matplotlib import style\n",
    "#Import Data\n",
    "data=np.loadtxt('ex2data2.txt',delimiter=',')\n",
    "X=data[:,:-1]\n",
    "y=data[:,-1]\n",
    "y=y[:,np.newaxis]\n",
    "m=data.shape[0]\n",
    "n=data.shape[1]\n",
    "\n",
    "#Sigmoid Function\n",
    "def sigmoid(z):\n",
    "    sig= 1/(1+np.exp(-z))\n",
    "    return sig\n",
    "\n",
    "\n",
    "#Intialization\n",
    "x0=np.ones((m,1))\n",
    "X=np.concatenate((x0,X), axis=1)\n",
    "theta=np.zeros((n,1))\n",
    "\n",
    "#Compute Cost and grad\n",
    "iterations=100000\n",
    "alpha= 0.001\n",
    "lamda=100  #regularization factor\n",
    "z=np.matmul(X,theta)\n",
    "h=sigmoid(z)\n",
    "reg_cost= (lamda/(2*m))*sum(theta[1:,0]**2)\n",
    "cost= sum((-y*np.log(h)-(1-y)*np.log(1-h)))/m + reg_cost\n",
    "\n",
    "for i in range(iterations):\n",
    "    reg_theta= (lamda/m)*theta\n",
    "    #print(reg_theta.shape)\n",
    "    grad= sum((h-y)*X)\n",
    "    grad= grad.reshape((n,1))\n",
    "    \n",
    "    grad= grad + reg_theta\n",
    "    grad[0,0]= grad[0,0]- reg_theta[0,0]\n",
    "    \n",
    "    theta= theta-(alpha/m)*grad\n",
    "    z=np.matmul(X,theta)\n",
    "    \n",
    "    h=sigmoid(z)\n",
    "    cost=(-1/m)*sum(y*np.log(h)+(1-y)*np.log(1-h)) + reg_cost\n",
    "    "
   ]
  },
  {
   "cell_type": "code",
   "execution_count": 7,
   "metadata": {},
   "outputs": [
    {
     "name": "stdout",
     "output_type": "stream",
     "text": [
      "training accuracy=  54.23728813559322\n"
     ]
    }
   ],
   "source": [
    "#Training accuracy\n",
    "p=np.zeros((m,1))\n",
    "h_temp=h.reshape(m)\n",
    "p[h_temp>=0.5]=1\n",
    "acc_hyp= p==y\n",
    "acc_trained= (acc_hyp.sum()/m)*100\n",
    "print('training accuracy= ',acc_trained)"
   ]
  },
  {
   "cell_type": "code",
   "execution_count": 8,
   "metadata": {},
   "outputs": [
    {
     "name": "stderr",
     "output_type": "stream",
     "text": [
      "c:\\program files (x86)\\python38-32\\lib\\site-packages\\sklearn\\utils\\validation.py:73: DataConversionWarning: A column-vector y was passed when a 1d array was expected. Please change the shape of y to (n_samples, ), for example using ravel().\n",
      "  return f(**kwargs)\n"
     ]
    }
   ],
   "source": [
    "from sklearn.naive_bayes import GaussianNB\n",
    "\n",
    "model=GaussianNB()\n",
    "model.fit(X,y)\n",
    "h_nb=model.predict(X)"
   ]
  },
  {
   "cell_type": "code",
   "execution_count": 11,
   "metadata": {},
   "outputs": [
    {
     "name": "stdout",
     "output_type": "stream",
     "text": [
      "training accuracy using NaiveBayes=  74.57627118644068\n"
     ]
    }
   ],
   "source": [
    "#Training Accuracy\n",
    "from sklearn.metrics import accuracy_score\n",
    "acc_nb = accuracy_score(h_nb,y)*100\n",
    "print('training accuracy using NaiveBayes= ',acc_nb)"
   ]
  },
  {
   "cell_type": "code",
   "execution_count": null,
   "metadata": {},
   "outputs": [],
   "source": []
  }
 ],
 "metadata": {
  "kernelspec": {
   "display_name": "Python 3",
   "language": "python",
   "name": "python3"
  },
  "language_info": {
   "codemirror_mode": {
    "name": "ipython",
    "version": 3
   },
   "file_extension": ".py",
   "mimetype": "text/x-python",
   "name": "python",
   "nbconvert_exporter": "python",
   "pygments_lexer": "ipython3",
   "version": "3.8.3"
  }
 },
 "nbformat": 4,
 "nbformat_minor": 4
}
